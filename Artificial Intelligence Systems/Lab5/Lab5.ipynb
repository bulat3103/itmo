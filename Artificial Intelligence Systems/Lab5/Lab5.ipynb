{
  "nbformat": 4,
  "nbformat_minor": 0,
  "metadata": {
    "colab": {
      "provenance": []
    },
    "kernelspec": {
      "name": "python3",
      "display_name": "Python 3"
    },
    "language_info": {
      "name": "python"
    }
  },
  "cells": [
    {
      "cell_type": "code",
      "execution_count": null,
      "metadata": {
        "colab": {
          "base_uri": "https://localhost:8080/",
          "height": 282
        },
        "id": "uzklgFOBk2yt",
        "outputId": "04e616d5-54be-48bd-af91-16a34f6ee09e"
      },
      "outputs": [
        {
          "output_type": "execute_result",
          "data": {
            "text/plain": [
              "[<matplotlib.lines.Line2D at 0x7fd6adc02410>]"
            ]
          },
          "metadata": {},
          "execution_count": 5
        },
        {
          "output_type": "display_data",
          "data": {
            "text/plain": [
              "<Figure size 432x288 with 1 Axes>"
            ],
            "image/png": "[encoded data removed]"
          },
          "metadata": {
            "needs_background": "light"
          }
        }
      ],
      "source": [
        "import numpy as np\n",
        "import matplotlib.pyplot as plt\n",
        "from keras.datasets import mnist\n",
        "(X_train, y_train), (X_pred, y_pred) = mnist.load_data()\n",
        "from sklearn.decomposition import PCA\n",
        "from sklearn.model_selection import train_test_split\n",
        "variant_number = 20\n",
        "X_train, X_test, y_train, y_test = train_test_split(X_train, y_train, test_size=0.3, random_state=2020)\n",
        "dim = 784  # 28*28\n",
        "X_train = X_train.reshape(len(X_train), dim)\n",
        "X_test = X_test.reshape(len(X_test), dim)\n",
        "pca = PCA(svd_solver='full')\n",
        "modelPCA = pca.fit(X_train)\n",
        "X_train = modelPCA.transform(X_train)\n",
        "explained_variance = np.round(np.cumsum(pca.explained_variance_ratio_), 3)\n",
        "plt.plot(np.arange(dim), explained_variance, ls='-')"
      ]
    },
    {
      "cell_type": "markdown",
      "source": [
        "**Определите, какое минимальное количество главных компонент необходимо использовать, чтобы доля объясненной дисперсии превышала 0.80+номер в списке%10. Построить график зависимости доли объясненной дисперсии от количества используемых ГК**"
      ],
      "metadata": {
        "id": "355Sgs2Um-kN"
      }
    },
    {
      "cell_type": "code",
      "source": [
        "variant_expectation = 0.8 + variant_number % 10 / 100\n",
        "X_train = X_train.reshape(len(X_train), dim)\n",
        "pca = PCA(n_components=variant_expectation, svd_solver='full')\n",
        "modelPCA = pca.fit(X_train)\n",
        "explained_variance = np.round(np.cumsum(pca.explained_variance_ratio_), 3)\n",
        "count = explained_variance.size\n",
        "plt.plot(np.arange(count), explained_variance, ls='-')\n",
        "print(\"Explained Variance: \" + str(round(variant_expectation, 2)) + \" Number of Components: \" + str(count))"
      ],
      "metadata": {
        "colab": {
          "base_uri": "https://localhost:8080/",
          "height": 282
        },
        "id": "1XhFKhwcmwqr",
        "outputId": "bd89e274-afb5-4343-c5b3-1ed3f786cbcf"
      },
      "execution_count": null,
      "outputs": [
        {
          "output_type": "stream",
          "name": "stdout",
          "text": [
            "Explained Variance: 0.8 Number of Components: 44\n"
          ]
        },
        {
          "output_type": "display_data",
          "data": {
            "text/plain": [
              "<Figure size 432x288 with 1 Axes>"
            ],
            "image/png": "[encoded data removed]"
          },
          "metadata": {
            "needs_background": "light"
          }
        }
      ]
    },
    {
      "cell_type": "markdown",
      "source": [
        "**Введите количество верно классифицированных объектов класса номер в списке%9 для тестовых данных**"
      ],
      "metadata": {
        "id": "dHml79LloR7a"
      }
    },
    {
      "cell_type": "code",
      "source": [
        "from sklearn.multiclass import OneVsRestClassifier\n",
        "from sklearn.ensemble import RandomForestClassifier\n",
        "X_train, X_test, y_train, y_test = train_test_split(X_train, y_train, test_size=0.3, random_state=2020)\n",
        "X_train = pca.transform(X_train)\n",
        "X_test = pca.transform(X_test)\n",
        "tree = RandomForestClassifier(criterion='gini', min_samples_leaf=10, max_depth=20, n_estimators=10, random_state=2020)\n",
        "clf = OneVsRestClassifier(tree).fit(X_train, y_train)\n",
        "modelPCA = PCA(n_components=count, svd_solver='full').fit(X_test)\n",
        "X_test = modelPCA.transform(X_test)\n",
        "class_variant = variant_number % 9\n",
        "y_pred = clf.predict(X_test)\n",
        "from sklearn.metrics import confusion_matrix\n",
        "CM = confusion_matrix(y_test, y_pred)\n",
        "print(\"The number of correctly classified images contained in Class \" + str(class_variant) + \" is: \" + str(\n",
        "    CM[class_variant][class_variant]))"
      ],
      "metadata": {
        "colab": {
          "base_uri": "https://localhost:8080/"
        },
        "id": "hwK1qdLYoiPh",
        "outputId": "e11e0c69-4fa6-4cbe-c5cb-7f56089e1f0b"
      },
      "execution_count": null,
      "outputs": [
        {
          "output_type": "stream",
          "name": "stdout",
          "text": [
            "The number of correctly classified images contained in Class 2 is: 1070\n"
          ]
        }
      ]
    },
    {
      "cell_type": "markdown",
      "source": [
        "**Введите вероятность отнесения 5 любых изображений из тестового набора к назначенному классу**"
      ],
      "metadata": {
        "id": "LQIiLhsCpgVj"
      }
    },
    {
      "cell_type": "code",
      "source": [
        "import random\n",
        "for i in range(5):\n",
        "    num = random.randint(0, 10000)\n",
        "    result = clf.predict_proba(X_test)[num][y_pred[num]]\n",
        "    print(\"The probability that picture No.\" + str(num) + \" belongs to Class \" + str(y_pred[num]) + \" is: \" + str(\n",
        "        round(result, 3)))"
      ],
      "metadata": {
        "colab": {
          "base_uri": "https://localhost:8080/"
        },
        "id": "YD-Sp3vCpi3K",
        "outputId": "b372b632-5eb7-4cf0-bbb4-1daf197477c8"
      },
      "execution_count": null,
      "outputs": [
        {
          "output_type": "stream",
          "name": "stdout",
          "text": [
            "The probability that picture No.6892 belongs to Class 6 is: 0.367\n",
            "The probability that picture No.3967 belongs to Class 0 is: 0.879\n",
            "The probability that picture No.8350 belongs to Class 4 is: 0.645\n",
            "The probability that picture No.421 belongs to Class 9 is: 0.444\n",
            "The probability that picture No.2367 belongs to Class 1 is: 0.695\n"
          ]
        }
      ]
    },
    {
      "cell_type": "markdown",
      "source": [
        "**Определите Accuracy, Precision, Recall or F1 для обученной модели**"
      ],
      "metadata": {
        "id": "dNOLcps5pxpk"
      }
    },
    {
      "cell_type": "code",
      "source": [
        "from sklearn.metrics import classification_report, accuracy_score\n",
        "targets = ['Class 0', 'Class 1', 'Class 2', 'Class 3', 'Class 4', 'Class 5', 'Class 6', 'Class 7', 'Class 8', 'Class 9']\n",
        "print(\"Accuracy: \" + str(accuracy_score(y_test, y_pred)))\n",
        "print()\n",
        "print(classification_report(y_test, y_pred, target_names=targets))"
      ],
      "metadata": {
        "colab": {
          "base_uri": "https://localhost:8080/"
        },
        "id": "NAfbWl4YpzzC",
        "outputId": "55b2bfd4-e65e-4b4a-c499-8e13e475aa62"
      },
      "execution_count": null,
      "outputs": [
        {
          "output_type": "stream",
          "name": "stdout",
          "text": [
            "Accuracy: 0.8257936507936507\n",
            "\n",
            "              precision    recall  f1-score   support\n",
            "\n",
            "     Class 0       0.92      0.90      0.91      1293\n",
            "     Class 1       0.93      0.96      0.94      1416\n",
            "     Class 2       0.84      0.85      0.85      1262\n",
            "     Class 3       0.74      0.75      0.75      1290\n",
            "     Class 4       0.78      0.83      0.80      1214\n",
            "     Class 5       0.69      0.64      0.66      1158\n",
            "     Class 6       0.88      0.93      0.90      1204\n",
            "     Class 7       0.87      0.90      0.88      1318\n",
            "     Class 8       0.80      0.79      0.79      1188\n",
            "     Class 9       0.76      0.68      0.72      1257\n",
            "\n",
            "    accuracy                           0.83     12600\n",
            "   macro avg       0.82      0.82      0.82     12600\n",
            "weighted avg       0.82      0.83      0.82     12600\n",
            "\n"
          ]
        }
      ]
    }
  ]
}